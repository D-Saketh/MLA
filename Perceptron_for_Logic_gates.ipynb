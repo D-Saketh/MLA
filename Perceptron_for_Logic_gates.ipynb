{
  "nbformat": 4,
  "nbformat_minor": 0,
  "metadata": {
    "colab": {
      "provenance": [],
      "authorship_tag": "ABX9TyOFZEYW66qQTyQHfeg9E+Xh",
      "include_colab_link": true
    },
    "kernelspec": {
      "name": "python3",
      "display_name": "Python 3"
    },
    "language_info": {
      "name": "python"
    }
  },
  "cells": [
    {
      "cell_type": "markdown",
      "metadata": {
        "id": "view-in-github",
        "colab_type": "text"
      },
      "source": [
        "<a href=\"https://colab.research.google.com/github/D-Saketh/MLA/blob/main/Perceptron_for_Logic_gates.ipynb\" target=\"_parent\"><img src=\"https://colab.research.google.com/assets/colab-badge.svg\" alt=\"Open In Colab\"/></a>"
      ]
    },
    {
      "cell_type": "code",
      "execution_count": null,
      "metadata": {
        "id": "2y68eMtMrByD"
      },
      "outputs": [],
      "source": [
        "# Import necessary libraries\n",
        "import numpy as np\n",
        "from sklearn.linear_model import Perceptron\n",
        "from sklearn.metrics import accuracy_score\n"
      ]
    },
    {
      "cell_type": "code",
      "source": [
        "# Define logic gates data (inputs and corresponding outputs)\n",
        "logic_gates = {\n",
        "    'AND': {'X': np.array([[0, 0], [0, 1], [1, 0], [1, 1]]), 'y': np.array([0, 0, 0, 1])},\n",
        "    'OR': {'X': np.array([[0, 0], [0, 1], [1, 0], [1, 1]]), 'y': np.array([0, 1, 1, 1])},\n",
        "    'NAND': {'X': np.array([[0, 0], [0, 1], [1, 0], [1, 1]]), 'y': np.array([1, 1, 1, 0])},\n",
        "    'NOT': {'X': np.array([[0, 1], [1, 1]]), 'y': np.array([1, 0])}  # Extra dummy feature for NOT gate\n",
        "}"
      ],
      "metadata": {
        "id": "CPhK47_hrH4O"
      },
      "execution_count": null,
      "outputs": []
    },
    {
      "cell_type": "code",
      "source": [
        "# Train Perceptron for each gate\n",
        "for gate, data in logic_gates.items():\n",
        "    X, y = data['X'], data['y']\n",
        "\n",
        "    # Initialize and train Perceptron model\n",
        "    perceptron = Perceptron(max_iter=1000, tol=1e-3)\n",
        "    perceptron.fit(X, y)\n",
        "\n",
        "    # Make predictions and calculate accuracy\n",
        "    y_pred = perceptron.predict(X)\n",
        "    accuracy = accuracy_score(y, y_pred)\n",
        "\n",
        "    # Display results for each logic gate\n",
        "    print(f\"Results for {gate} gate:\")\n",
        "    for i in range(X.shape[0]):\n",
        "        print(f\"Input: {X[i, :-1] if gate == 'NOT' else X[i]} => Prediction: {y_pred[i]}\")\n",
        "\n",
        "    print(f\"Accuracy: {accuracy * 100:.2f}%\")\n",
        "    print(\"-\" * 20)"
      ],
      "metadata": {
        "colab": {
          "base_uri": "https://localhost:8080/"
        },
        "id": "EZWOH3LLrJt8",
        "outputId": "77b7e43c-e41c-44b8-9210-8ebe2ba4c8c4"
      },
      "execution_count": null,
      "outputs": [
        {
          "output_type": "stream",
          "name": "stdout",
          "text": [
            "Results for AND gate:\n",
            "Input: [0 0] => Prediction: 0\n",
            "Input: [0 1] => Prediction: 0\n",
            "Input: [1 0] => Prediction: 0\n",
            "Input: [1 1] => Prediction: 1\n",
            "Accuracy: 100.00%\n",
            "--------------------\n",
            "Results for OR gate:\n",
            "Input: [0 0] => Prediction: 0\n",
            "Input: [0 1] => Prediction: 1\n",
            "Input: [1 0] => Prediction: 1\n",
            "Input: [1 1] => Prediction: 1\n",
            "Accuracy: 100.00%\n",
            "--------------------\n",
            "Results for NAND gate:\n",
            "Input: [0 0] => Prediction: 1\n",
            "Input: [0 1] => Prediction: 0\n",
            "Input: [1 0] => Prediction: 0\n",
            "Input: [1 1] => Prediction: 0\n",
            "Accuracy: 50.00%\n",
            "--------------------\n",
            "Results for NOT gate:\n",
            "Input: [0] => Prediction: 1\n",
            "Input: [1] => Prediction: 0\n",
            "Accuracy: 100.00%\n",
            "--------------------\n"
          ]
        }
      ]
    }
  ]
}